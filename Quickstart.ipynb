{
 "cells": [
  {
   "cell_type": "markdown",
   "id": "f4adbd44",
   "metadata": {},
   "source": [
    "Suggested imports - But please use whatever you feel is useful, this is just a suggestion"
   ]
  },
  {
   "cell_type": "code",
   "execution_count": null,
   "id": "6b4c9a73",
   "metadata": {},
   "outputs": [],
   "source": [
    "import dask.dataframe as dd\n",
    "import geopandas as gpd\n",
    "import pandas as pd\n",
    "import requests\n",
    "from geowrangler import vector_zonal_stats as vzs\n",
    "from geowrangler import raster_zonal_stats as rzs\n",
    "from geowrangler.datasets import ookla\n",
    "from datetime import datetime as dt\n",
    "from datetime import timedelta"
   ]
  },
  {
   "cell_type": "markdown",
   "id": "26f725b4",
   "metadata": {},
   "source": [
    "# TASKS / TODO:\n",
    "* Step 1 - Effort: S\n",
    "* Step 2 - Effort: S\n",
    "* Step 3 - Effort: M\n",
    "* Step 4 - Effort: XL\n",
    "\n",
    "(Please fill this in with how you're planning to approach the task)\n"
   ]
  },
  {
   "cell_type": "markdown",
   "id": "c74d5e0f",
   "metadata": {},
   "source": [
    "## Step 1 - xxxx"
   ]
  },
  {
   "cell_type": "markdown",
   "id": "81f126a3",
   "metadata": {},
   "source": [
    "You've got it from here. Good luck! \n",
    "\n",
    "If you don't finish everything, write what you were planning to do for each step"
   ]
  },
  {
   "cell_type": "code",
   "execution_count": null,
   "id": "74eb4e69",
   "metadata": {},
   "outputs": [],
   "source": []
  }
 ],
 "metadata": {
  "kernelspec": {
   "display_name": "Python 3 (ipykernel)",
   "language": "python",
   "name": "python3"
  },
  "language_info": {
   "codemirror_mode": {
    "name": "ipython",
    "version": 3
   },
   "file_extension": ".py",
   "mimetype": "text/x-python",
   "name": "python",
   "nbconvert_exporter": "python",
   "pygments_lexer": "ipython3",
   "version": "3.9.7"
  }
 },
 "nbformat": 4,
 "nbformat_minor": 5
}
