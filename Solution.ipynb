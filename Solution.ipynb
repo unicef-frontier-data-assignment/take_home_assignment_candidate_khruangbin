{
 "cells": [
  {
   "cell_type": "markdown",
   "metadata": {},
   "source": [
    "# Solution to the Unicef Data Engineer assignment\n",
    "\n",
    "### TASKS / TODO's and estimation (T-Shirt sizes)\n",
    "1. Download the Ookla data from Ookla’s S3 bucket - for the most recent 12 months (4 quarters) - Effort: M\n",
    "    1. Combine the quarterly data into a sensible average (Sum of # devices, Mean of upload / download speeds)\n",
    "2. Download the most recent Worldpop population data from HDX (Preferably using the HDX API) - Effort: M\n",
    "    1. Sum the total school age population (5-20yrs old) for each school polygon\n",
    "3. Merge this data with the existing school polygons geojson - Effort: S\n",
    "4. Write all this to a new geojson file that [Data Visualisation Specialist] can visualise - Effort: S\n",
    "\n",
    "\n",
    "#### Notes\n",
    "- First I want to explore the datasets that I need to use. I want to know what format they are in, how I can access them and what their sizes are. Therefore I immediately install the `geowrangler` library for Python and try to access the Ookla data.\n",
    "- I also download TIF files from the Humanitarian Data Exchange.\n",
    "- I also set up a virtual environment locally, so that I can easily manage the desired python version and libraries"
   ]
  }
 ],
 "metadata": {
  "kernelspec": {
   "display_name": "Python 3.9.10 64-bit",
   "language": "python",
   "name": "python3"
  },
  "language_info": {
   "name": "python",
   "version": "3.9.10"
  },
  "orig_nbformat": 4,
  "vscode": {
   "interpreter": {
    "hash": "aee8b7b246df8f9039afb4144a1f6fd8d2ca17a180786b69acc140d282b71a49"
   }
  }
 },
 "nbformat": 4,
 "nbformat_minor": 2
}
